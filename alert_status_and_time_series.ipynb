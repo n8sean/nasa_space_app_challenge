{
 "cells": [
  {
   "cell_type": "markdown",
   "metadata": {},
   "source": [
    "## **Establish the Alert Status Gauge**"
   ]
  },
  {
   "cell_type": "markdown",
   "metadata": {},
   "source": [
    "## **Python Libraries**"
   ]
  },
  {
   "cell_type": "code",
   "execution_count": 20,
   "metadata": {},
   "outputs": [],
   "source": [
    "import pandas as pd\n",
    "import json\n",
    "\n",
    "import matplotlib.pyplot as plt\n",
    "import plotly.graph_objects as go\n"
   ]
  },
  {
   "cell_type": "code",
   "execution_count": 21,
   "metadata": {},
   "outputs": [
    {
     "name": "stdout",
     "output_type": "stream",
     "text": [
      "./data/proton.json\n",
      "./data/xrays-flares.json\n"
     ]
    }
   ],
   "source": [
    "#return filepath information\n",
    "root = './data/'\n",
    "file_proton = 'proton.json'\n",
    "file_xray = 'xrays-flares.json'\n",
    "\n",
    "path_proton = root + file_proton\n",
    "path_electron = root + file_xray\n",
    "\n",
    "print(path_proton)\n",
    "print(path_electron)\n"
   ]
  },
  {
   "cell_type": "code",
   "execution_count": 22,
   "metadata": {},
   "outputs": [],
   "source": [
    "#return dataFrames of the source data\n",
    "df_electron = pd.read_json(path_electron)\n",
    "df_proton = pd.read_json(path_proton)\n",
    "\n"
   ]
  },
  {
   "cell_type": "code",
   "execution_count": 23,
   "metadata": {},
   "outputs": [
    {
     "data": {
      "text/html": [
       "<div>\n",
       "<style scoped>\n",
       "    .dataframe tbody tr th:only-of-type {\n",
       "        vertical-align: middle;\n",
       "    }\n",
       "\n",
       "    .dataframe tbody tr th {\n",
       "        vertical-align: top;\n",
       "    }\n",
       "\n",
       "    .dataframe thead th {\n",
       "        text-align: right;\n",
       "    }\n",
       "</style>\n",
       "<table border=\"1\" class=\"dataframe\">\n",
       "  <thead>\n",
       "    <tr style=\"text-align: right;\">\n",
       "      <th></th>\n",
       "      <th>time_tag</th>\n",
       "      <th>begin_time</th>\n",
       "      <th>begin_class</th>\n",
       "      <th>max_time</th>\n",
       "      <th>max_class</th>\n",
       "      <th>max_xrlong</th>\n",
       "      <th>max_ratio</th>\n",
       "      <th>max_ratio_time</th>\n",
       "      <th>current_int_xrlong</th>\n",
       "      <th>end_time</th>\n",
       "      <th>end_class</th>\n",
       "      <th>satellite</th>\n",
       "    </tr>\n",
       "  </thead>\n",
       "  <tbody>\n",
       "    <tr>\n",
       "      <th>0</th>\n",
       "      <td>2022-09-26T08:48:00Z</td>\n",
       "      <td>2022-09-26 08:48:00+00:00</td>\n",
       "      <td>C1.0</td>\n",
       "      <td>2022-09-26 09:11:00+00:00</td>\n",
       "      <td>C4.7</td>\n",
       "      <td>0.000005</td>\n",
       "      <td>5.888602</td>\n",
       "      <td>2022-09-26 09:04:58+00:00</td>\n",
       "      <td>0.009435</td>\n",
       "      <td>2022-09-26 09:36:00+00:00</td>\n",
       "      <td>C2.8</td>\n",
       "      <td>16</td>\n",
       "    </tr>\n",
       "    <tr>\n",
       "      <th>1</th>\n",
       "      <td>2022-09-26T12:39:00Z</td>\n",
       "      <td>2022-09-26 12:39:00+00:00</td>\n",
       "      <td>C1.3</td>\n",
       "      <td>2022-09-26 12:51:00+00:00</td>\n",
       "      <td>C2.1</td>\n",
       "      <td>0.000002</td>\n",
       "      <td>0.123774</td>\n",
       "      <td>2022-09-26 12:44:39+00:00</td>\n",
       "      <td>0.003460</td>\n",
       "      <td>2022-09-26 13:09:00+00:00</td>\n",
       "      <td>C1.6</td>\n",
       "      <td>16</td>\n",
       "    </tr>\n",
       "    <tr>\n",
       "      <th>2</th>\n",
       "      <td>2022-09-26T15:37:00Z</td>\n",
       "      <td>2022-09-26 15:37:00+00:00</td>\n",
       "      <td>B9.5</td>\n",
       "      <td>2022-09-26 15:45:00+00:00</td>\n",
       "      <td>C2.9</td>\n",
       "      <td>0.000003</td>\n",
       "      <td>0.131328</td>\n",
       "      <td>2022-09-26 15:44:10+00:00</td>\n",
       "      <td>0.001404</td>\n",
       "      <td>2022-09-26 15:50:00+00:00</td>\n",
       "      <td>C1.8</td>\n",
       "      <td>16</td>\n",
       "    </tr>\n",
       "    <tr>\n",
       "      <th>3</th>\n",
       "      <td>2022-09-26T17:57:00Z</td>\n",
       "      <td>2022-09-26 17:57:00+00:00</td>\n",
       "      <td>C1.0</td>\n",
       "      <td>2022-09-26 18:07:00+00:00</td>\n",
       "      <td>C1.8</td>\n",
       "      <td>0.000002</td>\n",
       "      <td>0.226748</td>\n",
       "      <td>2022-09-26 18:02:41+00:00</td>\n",
       "      <td>0.002635</td>\n",
       "      <td>2022-09-26 18:25:00+00:00</td>\n",
       "      <td>C1.3</td>\n",
       "      <td>16</td>\n",
       "    </tr>\n",
       "    <tr>\n",
       "      <th>4</th>\n",
       "      <td>2022-09-26T20:44:00Z</td>\n",
       "      <td>2022-09-26 20:44:00+00:00</td>\n",
       "      <td>B9.1</td>\n",
       "      <td>2022-09-26 21:14:00+00:00</td>\n",
       "      <td>C3.6</td>\n",
       "      <td>0.000004</td>\n",
       "      <td>0.295939</td>\n",
       "      <td>2022-09-26 20:47:26+00:00</td>\n",
       "      <td>0.007023</td>\n",
       "      <td>2022-09-26 21:32:00+00:00</td>\n",
       "      <td>C2.2</td>\n",
       "      <td>16</td>\n",
       "    </tr>\n",
       "    <tr>\n",
       "      <th>...</th>\n",
       "      <td>...</td>\n",
       "      <td>...</td>\n",
       "      <td>...</td>\n",
       "      <td>...</td>\n",
       "      <td>...</td>\n",
       "      <td>...</td>\n",
       "      <td>...</td>\n",
       "      <td>...</td>\n",
       "      <td>...</td>\n",
       "      <td>...</td>\n",
       "      <td>...</td>\n",
       "      <td>...</td>\n",
       "    </tr>\n",
       "    <tr>\n",
       "      <th>60</th>\n",
       "      <td>2022-10-02T17:23:00Z</td>\n",
       "      <td>2022-10-02 17:23:00+00:00</td>\n",
       "      <td>C1.7</td>\n",
       "      <td>2022-10-02 17:34:00+00:00</td>\n",
       "      <td>C3.6</td>\n",
       "      <td>0.000004</td>\n",
       "      <td>0.072031</td>\n",
       "      <td>2022-10-02 17:30:46+00:00</td>\n",
       "      <td>0.002468</td>\n",
       "      <td>2022-10-02 17:53:00+00:00</td>\n",
       "      <td>C2.8</td>\n",
       "      <td>16</td>\n",
       "    </tr>\n",
       "    <tr>\n",
       "      <th>61</th>\n",
       "      <td>2022-10-02T17:53:00Z</td>\n",
       "      <td>2022-10-02 17:53:00+00:00</td>\n",
       "      <td>C2.8</td>\n",
       "      <td>2022-10-02 18:07:00+00:00</td>\n",
       "      <td>C7.8</td>\n",
       "      <td>0.000008</td>\n",
       "      <td>0.133809</td>\n",
       "      <td>2022-10-02 18:05:04+00:00</td>\n",
       "      <td>0.011571</td>\n",
       "      <td>2022-10-02 18:26:00+00:00</td>\n",
       "      <td>C5.0</td>\n",
       "      <td>16</td>\n",
       "    </tr>\n",
       "    <tr>\n",
       "      <th>62</th>\n",
       "      <td>2022-10-02T18:49:00Z</td>\n",
       "      <td>2022-10-02 18:49:00+00:00</td>\n",
       "      <td>C3.1</td>\n",
       "      <td>2022-10-02 19:08:00+00:00</td>\n",
       "      <td>C8.1</td>\n",
       "      <td>0.000008</td>\n",
       "      <td>0.148386</td>\n",
       "      <td>2022-10-02 19:02:31+00:00</td>\n",
       "      <td>0.013977</td>\n",
       "      <td>2022-10-02 19:25:00+00:00</td>\n",
       "      <td>C5.3</td>\n",
       "      <td>16</td>\n",
       "    </tr>\n",
       "    <tr>\n",
       "      <th>63</th>\n",
       "      <td>2022-10-02T19:53:00Z</td>\n",
       "      <td>2022-10-02 19:53:00+00:00</td>\n",
       "      <td>C4.3</td>\n",
       "      <td>2022-10-02 20:25:00+00:00</td>\n",
       "      <td>X1.0</td>\n",
       "      <td>0.000106</td>\n",
       "      <td>0.297887</td>\n",
       "      <td>2022-10-02 20:23:12+00:00</td>\n",
       "      <td>0.086362</td>\n",
       "      <td>2022-10-02 20:34:00+00:00</td>\n",
       "      <td>M4.9</td>\n",
       "      <td>16</td>\n",
       "    </tr>\n",
       "    <tr>\n",
       "      <th>64</th>\n",
       "      <td>2022-10-02T22:49:00Z</td>\n",
       "      <td>2022-10-02 22:49:00+00:00</td>\n",
       "      <td>C2.1</td>\n",
       "      <td>2022-10-02 23:08:00+00:00</td>\n",
       "      <td>C9.1</td>\n",
       "      <td>0.000009</td>\n",
       "      <td>0.116284</td>\n",
       "      <td>2022-10-02 23:07:30+00:00</td>\n",
       "      <td>0.010197</td>\n",
       "      <td>2022-10-02 23:19:00+00:00</td>\n",
       "      <td>C5.4</td>\n",
       "      <td>16</td>\n",
       "    </tr>\n",
       "  </tbody>\n",
       "</table>\n",
       "<p>65 rows × 12 columns</p>\n",
       "</div>"
      ],
      "text/plain": [
       "                time_tag                begin_time begin_class  \\\n",
       "0   2022-09-26T08:48:00Z 2022-09-26 08:48:00+00:00        C1.0   \n",
       "1   2022-09-26T12:39:00Z 2022-09-26 12:39:00+00:00        C1.3   \n",
       "2   2022-09-26T15:37:00Z 2022-09-26 15:37:00+00:00        B9.5   \n",
       "3   2022-09-26T17:57:00Z 2022-09-26 17:57:00+00:00        C1.0   \n",
       "4   2022-09-26T20:44:00Z 2022-09-26 20:44:00+00:00        B9.1   \n",
       "..                   ...                       ...         ...   \n",
       "60  2022-10-02T17:23:00Z 2022-10-02 17:23:00+00:00        C1.7   \n",
       "61  2022-10-02T17:53:00Z 2022-10-02 17:53:00+00:00        C2.8   \n",
       "62  2022-10-02T18:49:00Z 2022-10-02 18:49:00+00:00        C3.1   \n",
       "63  2022-10-02T19:53:00Z 2022-10-02 19:53:00+00:00        C4.3   \n",
       "64  2022-10-02T22:49:00Z 2022-10-02 22:49:00+00:00        C2.1   \n",
       "\n",
       "                    max_time max_class  max_xrlong  max_ratio  \\\n",
       "0  2022-09-26 09:11:00+00:00      C4.7    0.000005   5.888602   \n",
       "1  2022-09-26 12:51:00+00:00      C2.1    0.000002   0.123774   \n",
       "2  2022-09-26 15:45:00+00:00      C2.9    0.000003   0.131328   \n",
       "3  2022-09-26 18:07:00+00:00      C1.8    0.000002   0.226748   \n",
       "4  2022-09-26 21:14:00+00:00      C3.6    0.000004   0.295939   \n",
       "..                       ...       ...         ...        ...   \n",
       "60 2022-10-02 17:34:00+00:00      C3.6    0.000004   0.072031   \n",
       "61 2022-10-02 18:07:00+00:00      C7.8    0.000008   0.133809   \n",
       "62 2022-10-02 19:08:00+00:00      C8.1    0.000008   0.148386   \n",
       "63 2022-10-02 20:25:00+00:00      X1.0    0.000106   0.297887   \n",
       "64 2022-10-02 23:08:00+00:00      C9.1    0.000009   0.116284   \n",
       "\n",
       "              max_ratio_time  current_int_xrlong                  end_time  \\\n",
       "0  2022-09-26 09:04:58+00:00            0.009435 2022-09-26 09:36:00+00:00   \n",
       "1  2022-09-26 12:44:39+00:00            0.003460 2022-09-26 13:09:00+00:00   \n",
       "2  2022-09-26 15:44:10+00:00            0.001404 2022-09-26 15:50:00+00:00   \n",
       "3  2022-09-26 18:02:41+00:00            0.002635 2022-09-26 18:25:00+00:00   \n",
       "4  2022-09-26 20:47:26+00:00            0.007023 2022-09-26 21:32:00+00:00   \n",
       "..                       ...                 ...                       ...   \n",
       "60 2022-10-02 17:30:46+00:00            0.002468 2022-10-02 17:53:00+00:00   \n",
       "61 2022-10-02 18:05:04+00:00            0.011571 2022-10-02 18:26:00+00:00   \n",
       "62 2022-10-02 19:02:31+00:00            0.013977 2022-10-02 19:25:00+00:00   \n",
       "63 2022-10-02 20:23:12+00:00            0.086362 2022-10-02 20:34:00+00:00   \n",
       "64 2022-10-02 23:07:30+00:00            0.010197 2022-10-02 23:19:00+00:00   \n",
       "\n",
       "   end_class  satellite  \n",
       "0       C2.8         16  \n",
       "1       C1.6         16  \n",
       "2       C1.8         16  \n",
       "3       C1.3         16  \n",
       "4       C2.2         16  \n",
       "..       ...        ...  \n",
       "60      C2.8         16  \n",
       "61      C5.0         16  \n",
       "62      C5.3         16  \n",
       "63      M4.9         16  \n",
       "64      C5.4         16  \n",
       "\n",
       "[65 rows x 12 columns]"
      ]
     },
     "execution_count": 23,
     "metadata": {},
     "output_type": "execute_result"
    }
   ],
   "source": [
    "df_electron\n"
   ]
  },
  {
   "cell_type": "code",
   "execution_count": 24,
   "metadata": {},
   "outputs": [
    {
     "data": {
      "text/plain": [
       "Text(0.5, 1.0, 'Max Ratio of Solar Flux')"
      ]
     },
     "execution_count": 24,
     "metadata": {},
     "output_type": "execute_result"
    },
    {
     "data": {
      "image/png": "[encoded data removed]",
      "text/plain": [
       "<Figure size 640x480 with 1 Axes>"
      ]
     },
     "metadata": {},
     "output_type": "display_data"
    }
   ],
   "source": [
    "df_electron = df_electron.set_index('time_tag')\n",
    "plt.plot(df_electron['max_ratio'], marker='o')\n",
    "plt.xlabel(\"Date\")\n",
    "plt.ylabel(\"flux ratio\")\n",
    "plt.title(\"Max Ratio of Solar Flux\")"
   ]
  },
  {
   "cell_type": "code",
   "execution_count": null,
   "metadata": {},
   "outputs": [],
   "source": []
  },
  {
   "cell_type": "code",
   "execution_count": null,
   "metadata": {},
   "outputs": [],
   "source": []
  },
  {
   "cell_type": "code",
   "execution_count": null,
   "metadata": {},
   "outputs": [],
   "source": []
  },
  {
   "cell_type": "code",
   "execution_count": 25,
   "metadata": {},
   "outputs": [
    {
     "ename": "KeyError",
     "evalue": "59",
     "output_type": "error",
     "traceback": [
      "\u001b[1;31m---------------------------------------------------------------------------\u001b[0m",
      "\u001b[1;31mKeyError\u001b[0m                                  Traceback (most recent call last)",
      "File \u001b[1;32mc:\\Users\\nhick\\Downloads\\_software_DEV\\_projects_nasa_spaceAPP\\nasa_spaceApp\\lib\\site-packages\\pandas\\core\\indexes\\base.py:3800\u001b[0m, in \u001b[0;36mIndex.get_loc\u001b[1;34m(self, key, method, tolerance)\u001b[0m\n\u001b[0;32m   3799\u001b[0m \u001b[39mtry\u001b[39;00m:\n\u001b[1;32m-> 3800\u001b[0m     \u001b[39mreturn\u001b[39;00m \u001b[39mself\u001b[39;49m\u001b[39m.\u001b[39;49m_engine\u001b[39m.\u001b[39;49mget_loc(casted_key)\n\u001b[0;32m   3801\u001b[0m \u001b[39mexcept\u001b[39;00m \u001b[39mKeyError\u001b[39;00m \u001b[39mas\u001b[39;00m err:\n",
      "File \u001b[1;32mc:\\Users\\nhick\\Downloads\\_software_DEV\\_projects_nasa_spaceAPP\\nasa_spaceApp\\lib\\site-packages\\pandas\\_libs\\index.pyx:138\u001b[0m, in \u001b[0;36mpandas._libs.index.IndexEngine.get_loc\u001b[1;34m()\u001b[0m\n",
      "File \u001b[1;32mc:\\Users\\nhick\\Downloads\\_software_DEV\\_projects_nasa_spaceAPP\\nasa_spaceApp\\lib\\site-packages\\pandas\\_libs\\index.pyx:165\u001b[0m, in \u001b[0;36mpandas._libs.index.IndexEngine.get_loc\u001b[1;34m()\u001b[0m\n",
      "File \u001b[1;32mpandas\\_libs\\hashtable_class_helper.pxi:5745\u001b[0m, in \u001b[0;36mpandas._libs.hashtable.PyObjectHashTable.get_item\u001b[1;34m()\u001b[0m\n",
      "File \u001b[1;32mpandas\\_libs\\hashtable_class_helper.pxi:5753\u001b[0m, in \u001b[0;36mpandas._libs.hashtable.PyObjectHashTable.get_item\u001b[1;34m()\u001b[0m\n",
      "\u001b[1;31mKeyError\u001b[0m: 59",
      "\nThe above exception was the direct cause of the following exception:\n",
      "\u001b[1;31mKeyError\u001b[0m                                  Traceback (most recent call last)",
      "Cell \u001b[1;32mIn [25], line 1\u001b[0m\n\u001b[1;32m----> 1\u001b[0m alert_data \u001b[38;5;241m=\u001b[39m df_electron\u001b[38;5;241m.\u001b[39mat[\u001b[38;5;241m59\u001b[39m,\u001b[38;5;124m'\u001b[39m\u001b[38;5;124mmax_class\u001b[39m\u001b[38;5;124m'\u001b[39m]\n\u001b[0;32m      2\u001b[0m alert_data\n",
      "File \u001b[1;32mc:\\Users\\nhick\\Downloads\\_software_DEV\\_projects_nasa_spaceAPP\\nasa_spaceApp\\lib\\site-packages\\pandas\\core\\indexing.py:2427\u001b[0m, in \u001b[0;36m_AtIndexer.__getitem__\u001b[1;34m(self, key)\u001b[0m\n\u001b[0;32m   2424\u001b[0m         \u001b[39mraise\u001b[39;00m \u001b[39mValueError\u001b[39;00m(\u001b[39m\"\u001b[39m\u001b[39mInvalid call for scalar access (getting)!\u001b[39m\u001b[39m\"\u001b[39m)\n\u001b[0;32m   2425\u001b[0m     \u001b[39mreturn\u001b[39;00m \u001b[39mself\u001b[39m\u001b[39m.\u001b[39mobj\u001b[39m.\u001b[39mloc[key]\n\u001b[1;32m-> 2427\u001b[0m \u001b[39mreturn\u001b[39;00m \u001b[39msuper\u001b[39;49m()\u001b[39m.\u001b[39;49m\u001b[39m__getitem__\u001b[39;49m(key)\n",
      "File \u001b[1;32mc:\\Users\\nhick\\Downloads\\_software_DEV\\_projects_nasa_spaceAPP\\nasa_spaceApp\\lib\\site-packages\\pandas\\core\\indexing.py:2378\u001b[0m, in \u001b[0;36m_ScalarAccessIndexer.__getitem__\u001b[1;34m(self, key)\u001b[0m\n\u001b[0;32m   2375\u001b[0m         \u001b[39mraise\u001b[39;00m \u001b[39mValueError\u001b[39;00m(\u001b[39m\"\u001b[39m\u001b[39mInvalid call for scalar access (getting)!\u001b[39m\u001b[39m\"\u001b[39m)\n\u001b[0;32m   2377\u001b[0m key \u001b[39m=\u001b[39m \u001b[39mself\u001b[39m\u001b[39m.\u001b[39m_convert_key(key)\n\u001b[1;32m-> 2378\u001b[0m \u001b[39mreturn\u001b[39;00m \u001b[39mself\u001b[39;49m\u001b[39m.\u001b[39;49mobj\u001b[39m.\u001b[39;49m_get_value(\u001b[39m*\u001b[39;49mkey, takeable\u001b[39m=\u001b[39;49m\u001b[39mself\u001b[39;49m\u001b[39m.\u001b[39;49m_takeable)\n",
      "File \u001b[1;32mc:\\Users\\nhick\\Downloads\\_software_DEV\\_projects_nasa_spaceAPP\\nasa_spaceApp\\lib\\site-packages\\pandas\\core\\frame.py:3922\u001b[0m, in \u001b[0;36mDataFrame._get_value\u001b[1;34m(self, index, col, takeable)\u001b[0m\n\u001b[0;32m   3916\u001b[0m engine \u001b[39m=\u001b[39m \u001b[39mself\u001b[39m\u001b[39m.\u001b[39mindex\u001b[39m.\u001b[39m_engine\n\u001b[0;32m   3918\u001b[0m \u001b[39mif\u001b[39;00m \u001b[39mnot\u001b[39;00m \u001b[39misinstance\u001b[39m(\u001b[39mself\u001b[39m\u001b[39m.\u001b[39mindex, MultiIndex):\n\u001b[0;32m   3919\u001b[0m     \u001b[39m# CategoricalIndex: Trying to use the engine fastpath may give incorrect\u001b[39;00m\n\u001b[0;32m   3920\u001b[0m     \u001b[39m#  results if our categories are integers that dont match our codes\u001b[39;00m\n\u001b[0;32m   3921\u001b[0m     \u001b[39m# IntervalIndex: IntervalTree has no get_loc\u001b[39;00m\n\u001b[1;32m-> 3922\u001b[0m     row \u001b[39m=\u001b[39m \u001b[39mself\u001b[39;49m\u001b[39m.\u001b[39;49mindex\u001b[39m.\u001b[39;49mget_loc(index)\n\u001b[0;32m   3923\u001b[0m     \u001b[39mreturn\u001b[39;00m series\u001b[39m.\u001b[39m_values[row]\n\u001b[0;32m   3925\u001b[0m \u001b[39m# For MultiIndex going through engine effectively restricts us to\u001b[39;00m\n\u001b[0;32m   3926\u001b[0m \u001b[39m#  same-length tuples; see test_get_set_value_no_partial_indexing\u001b[39;00m\n",
      "File \u001b[1;32mc:\\Users\\nhick\\Downloads\\_software_DEV\\_projects_nasa_spaceAPP\\nasa_spaceApp\\lib\\site-packages\\pandas\\core\\indexes\\base.py:3802\u001b[0m, in \u001b[0;36mIndex.get_loc\u001b[1;34m(self, key, method, tolerance)\u001b[0m\n\u001b[0;32m   3800\u001b[0m     \u001b[39mreturn\u001b[39;00m \u001b[39mself\u001b[39m\u001b[39m.\u001b[39m_engine\u001b[39m.\u001b[39mget_loc(casted_key)\n\u001b[0;32m   3801\u001b[0m \u001b[39mexcept\u001b[39;00m \u001b[39mKeyError\u001b[39;00m \u001b[39mas\u001b[39;00m err:\n\u001b[1;32m-> 3802\u001b[0m     \u001b[39mraise\u001b[39;00m \u001b[39mKeyError\u001b[39;00m(key) \u001b[39mfrom\u001b[39;00m \u001b[39merr\u001b[39;00m\n\u001b[0;32m   3803\u001b[0m \u001b[39mexcept\u001b[39;00m \u001b[39mTypeError\u001b[39;00m:\n\u001b[0;32m   3804\u001b[0m     \u001b[39m# If we have a listlike key, _check_indexing_error will raise\u001b[39;00m\n\u001b[0;32m   3805\u001b[0m     \u001b[39m#  InvalidIndexError. Otherwise we fall through and re-raise\u001b[39;00m\n\u001b[0;32m   3806\u001b[0m     \u001b[39m#  the TypeError.\u001b[39;00m\n\u001b[0;32m   3807\u001b[0m     \u001b[39mself\u001b[39m\u001b[39m.\u001b[39m_check_indexing_error(key)\n",
      "\u001b[1;31mKeyError\u001b[0m: 59"
     ]
    }
   ],
   "source": [
    "alert_data = df_electron.at[59,'max_class']\n",
    "alert_data\n"
   ]
  },
  {
   "cell_type": "code",
   "execution_count": null,
   "metadata": {},
   "outputs": [
    {
     "ename": "ValueError",
     "evalue": "Mime type rendering requires nbformat>=4.2.0 but it is not installed",
     "output_type": "error",
     "traceback": [
      "\u001b[1;31m---------------------------------------------------------------------------\u001b[0m",
      "\u001b[1;31mValueError\u001b[0m                                Traceback (most recent call last)",
      "Cell \u001b[1;32mIn [8], line 8\u001b[0m\n\u001b[0;32m      1\u001b[0m \u001b[38;5;66;03m#return a status gauge for solar flare activity\u001b[39;00m\n\u001b[0;32m      2\u001b[0m fig \u001b[38;5;241m=\u001b[39m go\u001b[38;5;241m.\u001b[39mFigure(go\u001b[38;5;241m.\u001b[39mIndicator(\n\u001b[0;32m      3\u001b[0m     mode \u001b[38;5;241m=\u001b[39m \u001b[38;5;124m\"\u001b[39m\u001b[38;5;124mgauge+number\u001b[39m\u001b[38;5;124m\"\u001b[39m,\n\u001b[0;32m      4\u001b[0m     value \u001b[38;5;241m=\u001b[39m \u001b[38;5;241m270\u001b[39m,\n\u001b[0;32m      5\u001b[0m     domain \u001b[38;5;241m=\u001b[39m {\u001b[38;5;124m'\u001b[39m\u001b[38;5;124mx\u001b[39m\u001b[38;5;124m'\u001b[39m: [\u001b[38;5;241m0\u001b[39m, \u001b[38;5;241m1\u001b[39m], \u001b[38;5;124m'\u001b[39m\u001b[38;5;124my\u001b[39m\u001b[38;5;124m'\u001b[39m: [\u001b[38;5;241m0\u001b[39m, \u001b[38;5;241m1\u001b[39m]},\n\u001b[0;32m      6\u001b[0m     title \u001b[38;5;241m=\u001b[39m {\u001b[38;5;124m'\u001b[39m\u001b[38;5;124mtext\u001b[39m\u001b[38;5;124m'\u001b[39m: \u001b[38;5;124m'\u001b[39m\u001b[38;5;124mSolar Storm Status\u001b[39m\u001b[38;5;124m'\u001b[39m}))\n\u001b[1;32m----> 8\u001b[0m fig\u001b[38;5;241m.\u001b[39mshow()\n",
      "File \u001b[1;32mc:\\Users\\nhick\\Downloads\\_software_DEV\\_projects_nasa_spaceAPP\\nasa_spaceApp\\lib\\site-packages\\plotly\\basedatatypes.py:3398\u001b[0m, in \u001b[0;36mBaseFigure.show\u001b[1;34m(self, *args, **kwargs)\u001b[0m\n\u001b[0;32m   3365\u001b[0m \u001b[39m\"\"\"\u001b[39;00m\n\u001b[0;32m   3366\u001b[0m \u001b[39mShow a figure using either the default renderer(s) or the renderer(s)\u001b[39;00m\n\u001b[0;32m   3367\u001b[0m \u001b[39mspecified by the renderer argument\u001b[39;00m\n\u001b[1;32m   (...)\u001b[0m\n\u001b[0;32m   3394\u001b[0m \u001b[39mNone\u001b[39;00m\n\u001b[0;32m   3395\u001b[0m \u001b[39m\"\"\"\u001b[39;00m\n\u001b[0;32m   3396\u001b[0m \u001b[39mimport\u001b[39;00m \u001b[39mplotly\u001b[39;00m\u001b[39m.\u001b[39;00m\u001b[39mio\u001b[39;00m \u001b[39mas\u001b[39;00m \u001b[39mpio\u001b[39;00m\n\u001b[1;32m-> 3398\u001b[0m \u001b[39mreturn\u001b[39;00m pio\u001b[39m.\u001b[39mshow(\u001b[39mself\u001b[39m, \u001b[39m*\u001b[39margs, \u001b[39m*\u001b[39m\u001b[39m*\u001b[39mkwargs)\n",
      "File \u001b[1;32mc:\\Users\\nhick\\Downloads\\_software_DEV\\_projects_nasa_spaceAPP\\nasa_spaceApp\\lib\\site-packages\\plotly\\io\\_renderers.py:396\u001b[0m, in \u001b[0;36mshow\u001b[1;34m(fig, renderer, validate, **kwargs)\u001b[0m\n\u001b[0;32m    391\u001b[0m         \u001b[39mraise\u001b[39;00m \u001b[39mValueError\u001b[39;00m(\n\u001b[0;32m    392\u001b[0m             \u001b[39m\"\u001b[39m\u001b[39mMime type rendering requires ipython but it is not installed\u001b[39m\u001b[39m\"\u001b[39m\n\u001b[0;32m    393\u001b[0m         )\n\u001b[0;32m    395\u001b[0m     \u001b[39mif\u001b[39;00m \u001b[39mnot\u001b[39;00m nbformat \u001b[39mor\u001b[39;00m LooseVersion(nbformat\u001b[39m.\u001b[39m__version__) \u001b[39m<\u001b[39m LooseVersion(\u001b[39m\"\u001b[39m\u001b[39m4.2.0\u001b[39m\u001b[39m\"\u001b[39m):\n\u001b[1;32m--> 396\u001b[0m         \u001b[39mraise\u001b[39;00m \u001b[39mValueError\u001b[39;00m(\n\u001b[0;32m    397\u001b[0m             \u001b[39m\"\u001b[39m\u001b[39mMime type rendering requires nbformat>=4.2.0 but it is not installed\u001b[39m\u001b[39m\"\u001b[39m\n\u001b[0;32m    398\u001b[0m         )\n\u001b[0;32m    400\u001b[0m     ipython_display\u001b[39m.\u001b[39mdisplay(bundle, raw\u001b[39m=\u001b[39m\u001b[39mTrue\u001b[39;00m)\n\u001b[0;32m    402\u001b[0m \u001b[39m# external renderers\u001b[39;00m\n",
      "\u001b[1;31mValueError\u001b[0m: Mime type rendering requires nbformat>=4.2.0 but it is not installed"
     ]
    }
   ],
   "source": [
    "#return a status gauge for solar flare activity\n",
    "fig = go.Figure(go.Indicator(\n",
    "    mode = \"gauge+number\",\n",
    "    value = 270,\n",
    "    domain = {'x': [0, 1], 'y': [0, 1]},\n",
    "    title = {'text': 'Solar Storm Status'}))\n",
    "\n",
    "fig.show()\n",
    "\n"
   ]
  },
  {
   "cell_type": "code",
   "execution_count": null,
   "metadata": {},
   "outputs": [],
   "source": []
  },
  {
   "cell_type": "code",
   "execution_count": null,
   "metadata": {},
   "outputs": [],
   "source": []
  },
  {
   "cell_type": "code",
   "execution_count": null,
   "metadata": {},
   "outputs": [],
   "source": []
  },
  {
   "cell_type": "code",
   "execution_count": null,
   "metadata": {},
   "outputs": [],
   "source": [
    "df_maxvals"
   ]
  },
  {
   "cell_type": "code",
   "execution_count": null,
   "metadata": {},
   "outputs": [
    {
     "name": "stdout",
     "output_type": "stream",
     "text": [
      "Pre-selected M-class Solar Flare\n",
      "================================\n",
      "{'time_tag': '2022-10-02T15:34:00Z', 'begin_time': '2022-10-02T15:34:00Z', 'begin_class': 'C2.6', 'max_time': '2022-10-02T15:45:00Z', 'max_class': 'M1.0', 'max_xrlong': 1.0746646694315132e-05, 'max_ratio': 0.15490299093216198, 'max_ratio_time': '2022-10-02T15:43:27Z', 'current_int_xrlong': 0.008081440813839436, 'end_time': '2022-10-02T15:53:00Z', 'end_class': 'C5.8', 'satellite': 16}\n"
     ]
    }
   ],
   "source": [
    "#return the json into usable data\n",
    "lst_files = [path_proton, path_electron]\n",
    "df_maxvals = pd.DataFrame(columns=['max_date', 'max_class'])\n",
    "for file in lst_files:\n",
    "    if file==path_proton:   # alert status data for aurora borialis \n",
    "        pass\n",
    "    elif file==path_electron:   # alert status data for solar flares\n",
    "        with open(file, 'r') as f:\n",
    "            data = json.load(f)\n",
    "            \n",
    "            print('Pre-selected M-class Solar Flare')\n",
    "            print('================================')\n",
    "            print(data[59])\n",
    "            for i in data:\n",
    "                idx = len(df_maxvals.index)\n",
    "                # if idx==0:\n",
    "                    \n",
    "                # df_maxvals.at(len(df_maxvals.index),:) = [i][0]['max_class']\n",
    "                # df_maxvals.at() = [i][0]['max_time']\n",
    "                # print(i)\n",
    "                # print('---')\n",
    "                \n",
    "\n"
   ]
  },
  {
   "cell_type": "code",
   "execution_count": null,
   "metadata": {},
   "outputs": [],
   "source": [
    "data"
   ]
  },
  {
   "cell_type": "code",
   "execution_count": null,
   "metadata": {},
   "outputs": [],
   "source": []
  }
 ],
 "metadata": {
  "kernelspec": {
   "display_name": "Python 3.9.6 ('nasa_spaceApp': venv)",
   "language": "python",
   "name": "python3"
  },
  "language_info": {
   "codemirror_mode": {
    "name": "ipython",
    "version": 3
   },
   "file_extension": ".py",
   "mimetype": "text/x-python",
   "name": "python",
   "nbconvert_exporter": "python",
   "pygments_lexer": "ipython3",
   "version": "3.9.6"
  },
  "orig_nbformat": 4,
  "vscode": {
   "interpreter": {
    "hash": "27fef9eb53fff93dd21cd5f1cab80ac0b6fcf623527352a4ae1cfc3f10d2aae4"
   }
  }
 },
 "nbformat": 4,
 "nbformat_minor": 2
}
