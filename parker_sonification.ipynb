{
 "cells": [
  {
   "cell_type": "markdown",
   "metadata": {},
   "source": [
    "## **Sonification of the Sun**"
   ]
  },
  {
   "cell_type": "markdown",
   "metadata": {},
   "source": [
    "> - This Jupyter Notebook is a simple audio player that enables our app to play a prescribed sound file (audio.wave).  \n",
    "> - This sound file is a recording derived from the Parker Solar Observatory of our Sun star.  \n",
    "> - Looking into future development of this use case / feature, we would expect that a real-time player could reflect an audial quality to this app.  \n",
    "> - For this MVP, we would expect a simple MUTE button that would simply allow the end user to engage in binary fashion therein."
   ]
  },
  {
   "cell_type": "markdown",
   "metadata": {},
   "source": [
    "## **Python Libraries**"
   ]
  },
  {
   "cell_type": "code",
   "execution_count": 13,
   "metadata": {},
   "outputs": [],
   "source": [
    "import pyaudio  \n",
    "import wave  \n",
    "\n"
   ]
  },
  {
   "cell_type": "code",
   "execution_count": 14,
   "metadata": {},
   "outputs": [],
   "source": [
    "#define relative source data\n",
    "root = './artifacts/Sonification/'\n",
    "file = 'audio.wav'\n",
    "path = root + file\n",
    "\n"
   ]
  },
  {
   "cell_type": "code",
   "execution_count": 15,
   "metadata": {},
   "outputs": [
    {
     "ename": "KeyboardInterrupt",
     "evalue": "",
     "output_type": "error",
     "traceback": [
      "\u001b[1;31m---------------------------------------------------------------------------\u001b[0m",
      "\u001b[1;31mKeyboardInterrupt\u001b[0m                         Traceback (most recent call last)",
      "Cell \u001b[1;32mIn [15], line 25\u001b[0m\n\u001b[0;32m     23\u001b[0m \u001b[38;5;66;03m# Play the sound by writing the audio data to the stream\u001b[39;00m\n\u001b[0;32m     24\u001b[0m \u001b[38;5;28;01mwhile\u001b[39;00m data \u001b[38;5;241m!=\u001b[39m \u001b[38;5;124m'\u001b[39m\u001b[38;5;124m'\u001b[39m:\n\u001b[1;32m---> 25\u001b[0m     stream\u001b[38;5;241m.\u001b[39mwrite(data)\n\u001b[0;32m     26\u001b[0m     data \u001b[38;5;241m=\u001b[39m wf\u001b[38;5;241m.\u001b[39mreadframes(chunk)\n\u001b[0;32m     28\u001b[0m \u001b[38;5;66;03m# Close and terminate the stream\u001b[39;00m\n",
      "File \u001b[1;32mc:\\Users\\nhick\\Downloads\\_software_DEV\\_projects_nasa_spaceAPP\\nasa_spaceApp\\lib\\site-packages\\pyaudio.py:589\u001b[0m, in \u001b[0;36mStream.write\u001b[1;34m(self, frames, num_frames, exception_on_underflow)\u001b[0m\n\u001b[0;32m    586\u001b[0m     num_frames \u001b[39m=\u001b[39m \u001b[39mint\u001b[39m(\u001b[39mlen\u001b[39m(frames) \u001b[39m/\u001b[39m (\u001b[39mself\u001b[39m\u001b[39m.\u001b[39m_channels \u001b[39m*\u001b[39m width))\n\u001b[0;32m    587\u001b[0m     \u001b[39m#print len(frames), self._channels, self._width, num_frames\u001b[39;00m\n\u001b[1;32m--> 589\u001b[0m pa\u001b[39m.\u001b[39;49mwrite_stream(\u001b[39mself\u001b[39;49m\u001b[39m.\u001b[39;49m_stream, frames, num_frames,\n\u001b[0;32m    590\u001b[0m                 exception_on_underflow)\n",
      "\u001b[1;31mKeyboardInterrupt\u001b[0m: "
     ]
    }
   ],
   "source": [
    "# TITLE: Playing and Recording Sound in Python\n",
    "# REF: https://realpython.com/playing-and-recording-sound-python/\n",
    "\n",
    "# Set chunk size of 1024 samples per data frame\n",
    "chunk = 1024  \n",
    "\n",
    "# Open the sound file \n",
    "wf = wave.open(path, 'rb')\n",
    "\n",
    "# Create an interface to PortAudio\n",
    "p = pyaudio.PyAudio()\n",
    "\n",
    "# Open a .Stream object to write the WAV file to\n",
    "# 'output = True' indicates that the sound will be played rather than recorded\n",
    "stream = p.open(format = p.get_format_from_width(wf.getsampwidth()),\n",
    "                channels = wf.getnchannels(),\n",
    "                rate = wf.getframerate(),\n",
    "                output = True)\n",
    "\n",
    "# Read data in chunks\n",
    "data = wf.readframes(chunk)\n",
    "\n",
    "# Play the sound by writing the audio data to the stream\n",
    "while data != '':\n",
    "    stream.write(data)\n",
    "    data = wf.readframes(chunk)\n",
    "\n",
    "# Close and terminate the stream\n",
    "stream.close()\n",
    "p.terminate()\n",
    "\n"
   ]
  },
  {
   "cell_type": "code",
   "execution_count": null,
   "metadata": {},
   "outputs": [],
   "source": [
    "print('=============================')\n",
    "print('       END OF SCRIPT')\n",
    "print('=============================')\n",
    "\n"
   ]
  }
 ],
 "metadata": {
  "kernelspec": {
   "display_name": "Python 3.9.6 ('nasa_spaceApp': venv)",
   "language": "python",
   "name": "python3"
  },
  "language_info": {
   "codemirror_mode": {
    "name": "ipython",
    "version": 3
   },
   "file_extension": ".py",
   "mimetype": "text/x-python",
   "name": "python",
   "nbconvert_exporter": "python",
   "pygments_lexer": "ipython3",
   "version": "3.9.6"
  },
  "orig_nbformat": 4,
  "vscode": {
   "interpreter": {
    "hash": "27fef9eb53fff93dd21cd5f1cab80ac0b6fcf623527352a4ae1cfc3f10d2aae4"
   }
  }
 },
 "nbformat": 4,
 "nbformat_minor": 2
}
